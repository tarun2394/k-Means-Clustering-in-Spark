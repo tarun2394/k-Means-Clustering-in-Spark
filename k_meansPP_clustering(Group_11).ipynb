{
  "nbformat": 4,
  "nbformat_minor": 0,
  "metadata": {
    "colab": {
      "name": "k_meansPP_clustering(Group_11).ipynb",
      "provenance": [],
      "collapsed_sections": []
    },
    "kernelspec": {
      "name": "python3",
      "display_name": "Python 3"
    }
  },
  "cells": [
    {
      "cell_type": "markdown",
      "metadata": {
        "id": "lR9ZPd9qE6UP"
      },
      "source": [
        "\n",
        "\n",
        "### **K-Means++ Clustering**\n"
      ]
    },
    {
      "cell_type": "code",
      "metadata": {
        "id": "32l6LwZMeyEA",
        "outputId": "fdda4c6f-b210-4923-fa71-4375d12415cf",
        "colab": {
          "base_uri": "https://localhost:8080/",
          "height": 238
        }
      },
      "source": [
        "!pip install pyspark"
      ],
      "execution_count": null,
      "outputs": [
        {
          "output_type": "stream",
          "text": [
            "Collecting pyspark\n",
            "\u001b[?25l  Downloading https://files.pythonhosted.org/packages/f0/26/198fc8c0b98580f617cb03cb298c6056587b8f0447e20fa40c5b634ced77/pyspark-3.0.1.tar.gz (204.2MB)\n",
            "\u001b[K     |████████████████████████████████| 204.2MB 87kB/s \n",
            "\u001b[?25hCollecting py4j==0.10.9\n",
            "\u001b[?25l  Downloading https://files.pythonhosted.org/packages/9e/b6/6a4fb90cd235dc8e265a6a2067f2a2c99f0d91787f06aca4bcf7c23f3f80/py4j-0.10.9-py2.py3-none-any.whl (198kB)\n",
            "\u001b[K     |████████████████████████████████| 204kB 70.6MB/s \n",
            "\u001b[?25hBuilding wheels for collected packages: pyspark\n",
            "  Building wheel for pyspark (setup.py) ... \u001b[?25l\u001b[?25hdone\n",
            "  Created wheel for pyspark: filename=pyspark-3.0.1-py2.py3-none-any.whl size=204612243 sha256=c9db604047630e81b2e5da1806043ab6f09a2bbcfaac1a1344ee9fa5b7a79dd0\n",
            "  Stored in directory: /root/.cache/pip/wheels/5e/bd/07/031766ca628adec8435bb40f0bd83bb676ce65ff4007f8e73f\n",
            "Successfully built pyspark\n",
            "Installing collected packages: py4j, pyspark\n",
            "Successfully installed py4j-0.10.9 pyspark-3.0.1\n"
          ],
          "name": "stdout"
        }
      ]
    },
    {
      "cell_type": "code",
      "metadata": {
        "id": "zZBRKe8AezzB",
        "outputId": "33df8307-8e31-47f3-d48c-cf3667ae625f",
        "colab": {
          "base_uri": "https://localhost:8080/",
          "height": 34
        }
      },
      "source": [
        "from google.colab import drive\n",
        "drive.mount('/content/drive')"
      ],
      "execution_count": null,
      "outputs": [
        {
          "output_type": "stream",
          "text": [
            "Mounted at /content/drive\n"
          ],
          "name": "stdout"
        }
      ]
    },
    {
      "cell_type": "code",
      "metadata": {
        "id": "dgq9TcivdE0Q"
      },
      "source": [
        "#data file\n",
        "file = \"drive/My Drive/bigdata_assignments/projects/project-3/data.txt\""
      ],
      "execution_count": null,
      "outputs": []
    },
    {
      "cell_type": "code",
      "metadata": {
        "id": "q8tdUQ1ZdUxi"
      },
      "source": [
        "#importing the required packages\n",
        "import sys\n",
        "from pyspark import SparkContext, SparkConf\n",
        "import numpy as np\n",
        "import random\n",
        "import matplotlib as mplib\n",
        "import matplotlib.pyplot as pl"
      ],
      "execution_count": null,
      "outputs": []
    },
    {
      "cell_type": "code",
      "metadata": {
        "id": "18DqHD4RdXGg"
      },
      "source": [
        "#initializing the sparkcontext\n",
        "sparkcontext = SparkContext(\"local\",\"PySpark k-means clustering\")"
      ],
      "execution_count": null,
      "outputs": []
    },
    {
      "cell_type": "code",
      "metadata": {
        "id": "MjC8RyQjDWgC"
      },
      "source": [
        "#constants required\n",
        "total_iteration = 20\n",
        "k = 10"
      ],
      "execution_count": null,
      "outputs": []
    },
    {
      "cell_type": "code",
      "metadata": {
        "id": "otbJCYOWdY0-"
      },
      "source": [
        "#reading the data file & splitting them using space\n",
        "fileRDD = sparkcontext.textFile(file)\n",
        "itemset = fileRDD.map(lambda line: [item for item in line.split(' ')])\n",
        "itemsetNew = itemset.map(lambda x: [float(i) for i in x])"
      ],
      "execution_count": null,
      "outputs": []
    },
    {
      "cell_type": "code",
      "metadata": {
        "id": "6_enhNhZdg0n"
      },
      "source": [
        "#initializing the 10 centroids\n",
        "def initCentroidsKpp(data, numClusters):\n",
        "  #initializing 1st centroid randomly\n",
        "  centroids = data.takeSample(False, 1)\n",
        "  dataArray = data.collect()\n",
        "  while len(centroids) < numClusters:\n",
        "    #fetching the farthest cluster centroid\n",
        "    D2 = calculateDistace(dataArray, centroids)\n",
        "    #choosing the new cluster centroid with probability D2\n",
        "    centroids.append(chooseNextCentroid(D2, dataArray))\n",
        "  return centroids"
      ],
      "execution_count": null,
      "outputs": []
    },
    {
      "cell_type": "code",
      "metadata": {
        "id": "-Kc6_PmzKwu8"
      },
      "source": [
        "#function to fetch the farthest cluster centroid\n",
        "def calculateDistace(centroid,dataPoint):\n",
        "  distance = list()\n",
        "  for j in dataPoint:\n",
        "    d = 0\n",
        "    for i in centroid:\n",
        "      d = max(d,calculateDistanceKPP(i,j))\n",
        "    distance.append(d)\n",
        "  return distance"
      ],
      "execution_count": null,
      "outputs": []
    },
    {
      "cell_type": "code",
      "metadata": {
        "id": "Ykj8siGbWGDr"
      },
      "source": [
        "#calculating distance using squared eucledian distance\n",
        "def calculateDistanceKPP(a,b):\n",
        "  finalans = 0\n",
        "  for x,y in zip(a,b):\n",
        "    ans  =  (x-y)\n",
        "    finalans = finalans+(ans*ans)\n",
        "  return finalans"
      ],
      "execution_count": null,
      "outputs": []
    },
    {
      "cell_type": "code",
      "metadata": {
        "id": "W5XOIuoXapxu"
      },
      "source": [
        "#choosing the new cluster centroid with probability Di\n",
        "def chooseNextCentroid(distance,dataArray):\n",
        "  d = np.array(distance)\n",
        "  #calculating the probabilities of each distance\n",
        "  #probabilities will always be in between 0-1\n",
        "  prob = d/d.sum()\n",
        "  #we can't take a random value from prob list as different data points have differet weights, to normalize the probability weights we are \n",
        "  #considering the cumulative probabilities\n",
        "  cumprob = prob.cumsum()\n",
        "  #pick a random value between 0-1\n",
        "  r = random.random()\n",
        "  #choose the centroid index with probability as r <= cumprob[i]\n",
        "  ci = 0\n",
        "  key =0\n",
        "  for k,i in enumerate(cumprob):\n",
        "    if r <= i:\n",
        "      ci = i\n",
        "      key = k\n",
        "  centroid = dataArray[key]\n",
        "  return centroid"
      ],
      "execution_count": null,
      "outputs": []
    },
    {
      "cell_type": "code",
      "metadata": {
        "id": "d-YRCpRzc9sG"
      },
      "source": [
        "#initializing the centroids\n",
        "centroids = initCentroidsKpp(itemsetNew,10) "
      ],
      "execution_count": null,
      "outputs": []
    },
    {
      "cell_type": "code",
      "metadata": {
        "id": "7D1O5T2kC_2L",
        "outputId": "6241ed64-8c17-4a9a-ab83-7a46aa5f1473",
        "colab": {
          "base_uri": "https://localhost:8080/",
          "height": 224
        }
      },
      "source": [
        "print(\"Generated Centroids\")\n",
        "for i in centroids:\n",
        "  print(i)"
      ],
      "execution_count": null,
      "outputs": [
        {
          "output_type": "stream",
          "text": [
            "Generated Centroids\n",
            "[0.0, 0.0, 0.0, 0.0, 0.0, 0.0, 0.0, 0.0, 0.0, 0.0, 0.0, 0.0, 0.0, 2.94, 0.0, 0.0, 0.0, 0.0, 2.94, 0.0, 2.94, 0.0, 0.0, 0.0, 0.0, 0.0, 2.94, 0.0, 0.0, 0.0, 0.0, 0.0, 0.0, 0.0, 0.0, 0.0, 0.0, 0.0, 0.0, 0.0, 0.0, 0.0, 0.0, 0.0, 2.94, 0.0, 0.0, 0.0, 0.0, 0.0, 0.0, 0.0, 0.0, 0.0, 1.0, 1.0, 10.0, 0.0]\n",
            "[0.0, 0.64, 0.64, 0.0, 0.32, 0.0, 0.0, 0.0, 0.0, 0.0, 0.0, 0.64, 0.0, 0.0, 0.0, 0.32, 0.0, 1.29, 1.93, 0.0, 0.96, 0.0, 0.0, 0.0, 0.0, 0.0, 0.0, 0.0, 0.0, 0.0, 0.0, 0.0, 0.0, 0.0, 0.0, 0.0, 0.0, 0.0, 0.0, 0.0, 0.0, 0.0, 0.0, 0.0, 0.0, 0.0, 0.0, 0.0, 0.0, 0.0, 0.0, 0.778, 0.0, 0.0, 3.756, 61.0, 278.0, 1.0]\n",
            "[0.21, 0.28, 0.5, 0.0, 0.14, 0.28, 0.21, 0.07, 0.0, 0.94, 0.21, 0.79, 0.65, 0.21, 0.14, 0.14, 0.07, 0.28, 3.47, 0.0, 1.59, 0.0, 0.43, 0.43, 0.0, 0.0, 0.0, 0.0, 0.0, 0.0, 0.0, 0.0, 0.0, 0.0, 0.0, 0.0, 0.07, 0.0, 0.0, 0.0, 0.0, 0.0, 0.0, 0.0, 0.0, 0.0, 0.0, 0.0, 0.0, 0.132, 0.0, 0.372, 0.18, 0.048, 5.114, 101.0, 1028.0, 1.0]\n",
            "[0.06, 0.0, 0.71, 0.0, 1.23, 0.19, 0.19, 0.12, 0.64, 0.25, 0.38, 0.45, 0.12, 0.0, 1.75, 0.06, 0.06, 1.03, 1.36, 0.32, 0.51, 0.0, 1.16, 0.06, 0.0, 0.0, 0.0, 0.0, 0.0, 0.0, 0.0, 0.0, 0.0, 0.0, 0.0, 0.0, 0.0, 0.0, 0.0, 0.06, 0.0, 0.0, 0.12, 0.0, 0.06, 0.06, 0.0, 0.0, 0.01, 0.143, 0.0, 0.276, 0.184, 0.01, 9.821, 485.0, 2259.0, 1.0]\n",
            "[0.0, 0.0, 0.0, 0.0, 0.63, 0.0, 0.31, 0.63, 0.31, 0.63, 0.31, 0.31, 0.31, 0.0, 0.0, 0.31, 0.0, 0.0, 3.18, 0.0, 0.31, 0.0, 0.0, 0.0, 0.0, 0.0, 0.0, 0.0, 0.0, 0.0, 0.0, 0.0, 0.0, 0.0, 0.0, 0.0, 0.0, 0.0, 0.0, 0.0, 0.0, 0.0, 0.0, 0.0, 0.0, 0.0, 0.0, 0.0, 0.0, 0.137, 0.0, 0.137, 0.0, 0.0, 3.537, 40.0, 191.0, 1.0]\n",
            "[0.0, 0.0, 0.0, 0.0, 0.63, 0.0, 0.31, 0.63, 0.31, 0.63, 0.31, 0.31, 0.31, 0.0, 0.0, 0.31, 0.0, 0.0, 3.18, 0.0, 0.31, 0.0, 0.0, 0.0, 0.0, 0.0, 0.0, 0.0, 0.0, 0.0, 0.0, 0.0, 0.0, 0.0, 0.0, 0.0, 0.0, 0.0, 0.0, 0.0, 0.0, 0.0, 0.0, 0.0, 0.0, 0.0, 0.0, 0.0, 0.0, 0.135, 0.0, 0.135, 0.0, 0.0, 3.537, 40.0, 191.0, 1.0]\n",
            "[0.0, 0.0, 0.0, 0.0, 1.85, 0.0, 0.0, 1.85, 0.0, 0.0, 0.0, 0.0, 0.0, 0.0, 0.0, 0.0, 0.0, 0.0, 0.0, 0.0, 0.0, 0.0, 0.0, 0.0, 0.0, 0.0, 0.0, 0.0, 0.0, 0.0, 0.0, 0.0, 0.0, 0.0, 0.0, 0.0, 0.0, 0.0, 0.0, 0.0, 0.0, 0.0, 0.0, 0.0, 0.0, 0.0, 0.0, 0.0, 0.0, 0.223, 0.0, 0.0, 0.0, 0.0, 3.0, 15.0, 54.0, 1.0]\n",
            "[0.0, 0.0, 0.0, 0.0, 1.92, 0.0, 0.0, 0.0, 0.0, 0.64, 0.96, 1.28, 0.0, 0.0, 0.0, 0.96, 0.0, 0.32, 3.85, 0.0, 0.64, 0.0, 0.0, 0.0, 0.0, 0.0, 0.0, 0.0, 0.0, 0.0, 0.0, 0.0, 0.0, 0.0, 0.0, 0.0, 0.0, 0.0, 0.0, 0.0, 0.0, 0.0, 0.0, 0.0, 0.0, 0.0, 0.0, 0.0, 0.0, 0.054, 0.0, 0.164, 0.054, 0.0, 1.671, 4.0, 112.0, 1.0]\n",
            "[0.0, 0.0, 0.0, 0.0, 1.88, 0.0, 0.0, 1.88, 0.0, 0.0, 0.0, 0.0, 0.0, 0.0, 0.0, 0.0, 0.0, 0.0, 0.0, 0.0, 0.0, 0.0, 0.0, 0.0, 0.0, 0.0, 0.0, 0.0, 0.0, 0.0, 0.0, 0.0, 0.0, 0.0, 0.0, 0.0, 0.0, 0.0, 0.0, 0.0, 0.0, 0.0, 0.0, 0.0, 0.0, 0.0, 0.0, 0.0, 0.0, 0.206, 0.0, 0.0, 0.0, 0.0, 2.45, 11.0, 49.0, 1.0]\n",
            "[0.15, 0.0, 0.46, 0.0, 0.61, 0.0, 0.3, 0.0, 0.92, 0.76, 0.76, 0.92, 0.0, 0.0, 0.0, 0.0, 0.0, 0.15, 1.23, 3.53, 2.0, 0.0, 0.0, 0.15, 0.0, 0.0, 0.0, 0.0, 0.0, 0.0, 0.0, 0.0, 0.15, 0.0, 0.0, 0.0, 0.0, 0.0, 0.0, 0.0, 0.0, 0.0, 0.3, 0.0, 0.0, 0.0, 0.0, 0.0, 0.0, 0.271, 0.0, 0.181, 0.203, 0.022, 9.744, 445.0, 1257.0, 1.0]\n"
          ],
          "name": "stdout"
        }
      ]
    },
    {
      "cell_type": "code",
      "metadata": {
        "id": "Ib423o8XhDDs"
      },
      "source": [
        "#computing the euclidean distance\n",
        "def compute_euclidean_distance(a, b):\n",
        "    sum_of = 0\n",
        "    for x, y in zip(a, b):\n",
        "        ans = (x - y)**2\n",
        "        sum_of += ans\n",
        "    return (sum_of)**(1/2)"
      ],
      "execution_count": null,
      "outputs": []
    },
    {
      "cell_type": "code",
      "metadata": {
        "id": "AjWabF6AiAU_"
      },
      "source": [
        "#computing the manhattan distance\n",
        "def compute_manhattan_distance(a, b):\n",
        "    sum_of = 0\n",
        "    for x, y in zip(a, b):\n",
        "        ans = abs(x-y)\n",
        "        sum_of += ans\n",
        "    return (sum_of)**(1/2)"
      ],
      "execution_count": null,
      "outputs": []
    },
    {
      "cell_type": "code",
      "metadata": {
        "id": "H4rEeppOiCAG"
      },
      "source": [
        "#assign the cluster which has the minimum distance\n",
        "def assign_label_cluster(distance, data_point, centroids):\n",
        "  #getting the minimum distance cluster from the dictionary\n",
        "  minIndex = min(distance, key=distance.get)\n",
        "  return [minIndex, data_point, distance[minIndex]]"
      ],
      "execution_count": null,
      "outputs": []
    },
    {
      "cell_type": "code",
      "metadata": {
        "id": "TGh4PaOpiGDk"
      },
      "source": [
        "#computing new centroids\n",
        "def compute_new_centroid(label,centroids):\n",
        "  res = []\n",
        "  for j in range(0,10):\n",
        "    c = []\n",
        "    x = None\n",
        "    for i in label:\n",
        "      if i[0] == j:\n",
        "        c.append(np.array(i[1]))\n",
        "    if not c:\n",
        "      x = centroids[j]\n",
        "    else:\n",
        "      x = np.average(c,axis = 0)\n",
        "    res.append(x)\n",
        "  return res        "
      ],
      "execution_count": null,
      "outputs": []
    },
    {
      "cell_type": "code",
      "metadata": {
        "id": "i52eZWu6iGqO"
      },
      "source": [
        "#k-meansPP clustering\n",
        "def iterative_kmeansPP_clustering_Eucledian(data_points,centroids):\n",
        "  #length of the datapoints\n",
        "  datalength = len(data_points)\n",
        "  #array to store cost function values\n",
        "  CostFunArrayEucledian = np.zeros((total_iteration,2))\n",
        "  #dictionary to store the costfunction for an iteration\n",
        "  costDictEucledian = dict()\n",
        "  #constant which keeps the iteration number\n",
        "  iter_no = 0\n",
        "  while iter_no < total_iteration:\n",
        "    #has datapoints and corresponding cluster number\n",
        "    cluster_label = []\n",
        "    #incrementing the iteration\n",
        "    iter_no += 1\n",
        "    #initializing the summation value for each iteration\n",
        "    s = 0\n",
        "    #iterating the datapoints\n",
        "    for r in range(0, datalength):\n",
        "      #dictionary to store corresponding distances between k centroids and current data point\n",
        "      distance = {}\n",
        "      #for each centroid\n",
        "      for c in range(0, k):\n",
        "        distance[c] = compute_euclidean_distance(data_points[r], centroids[c])\n",
        "      #assigning the cluster to a smallest distance\n",
        "      label = assign_label_cluster(distance, data_points[r], centroids)\n",
        "      cluster_label.append(label)\n",
        "      #updating the summation value\n",
        "      s = s + (label[2]**2)\n",
        "    #adding the cost function for an iteration\n",
        "    costDictEucledian[iter_no] = s  \n",
        "    CostFunArrayEucledian[iter_no-1,:] = np.array([iter_no, s])\n",
        "    print(\"Iteration %.1d : %.2f\" %(iter_no,s))\n",
        "    new_centroids = compute_new_centroid(cluster_label,centroids)\n",
        "    centroids = new_centroids\n",
        "  return CostFunArrayEucledian,costDictEucledian"
      ],
      "execution_count": null,
      "outputs": []
    },
    {
      "cell_type": "code",
      "metadata": {
        "id": "K-ag0UHYirIC",
        "outputId": "69d1225f-73a3-41b6-bec1-9b7847342d21",
        "colab": {
          "base_uri": "https://localhost:8080/",
          "height": 357
        }
      },
      "source": [
        "[costFunArrayEucledian,costDictEucledian] = iterative_kmeansPP_clustering_Eucledian(itemsetNew.collect(),centroids)"
      ],
      "execution_count": null,
      "outputs": [
        {
          "output_type": "stream",
          "text": [
            "Iteration 1 : 641192406.19\n",
            "Iteration 2 : 521019884.75\n",
            "Iteration 3 : 492434577.70\n",
            "Iteration 4 : 470323302.43\n",
            "Iteration 5 : 465825142.88\n",
            "Iteration 6 : 464263115.51\n",
            "Iteration 7 : 463213910.73\n",
            "Iteration 8 : 462437198.15\n",
            "Iteration 9 : 461987288.10\n",
            "Iteration 10 : 461511800.04\n",
            "Iteration 11 : 461180366.83\n",
            "Iteration 12 : 460960771.22\n",
            "Iteration 13 : 460762543.69\n",
            "Iteration 14 : 460484680.92\n",
            "Iteration 15 : 460246659.85\n",
            "Iteration 16 : 460027072.82\n",
            "Iteration 17 : 459754240.42\n",
            "Iteration 18 : 459454136.62\n",
            "Iteration 19 : 459038803.74\n",
            "Iteration 20 : 458546879.18\n"
          ],
          "name": "stdout"
        }
      ]
    },
    {
      "cell_type": "code",
      "metadata": {
        "id": "9GCyGf-qDmC5",
        "outputId": "57752d9c-c28d-4687-d255-3dc2ddae5e08",
        "colab": {
          "base_uri": "https://localhost:8080/",
          "height": 369
        }
      },
      "source": [
        "figure1, axes1 = pl.subplots(1,1,figsize=(10,5)) # Specifying the dimensions of graph\n",
        "# In the below step we assign a line plot for the iterations and the cost function\n",
        "axes1.plot(costFunArrayEucledian[:,0], costFunArrayEucledian[:,1], 'go-', linewidth = 2, markersize = 12, markeredgewidth = 2, label = 'Normalized cost function', fillstyle = 'none')\n",
        "axes1.set_xlabel(\"$No$ of $Iterations$ $(I)$\") # Setting the x-label to no.of iterations\n",
        "axes1.set_ylabel(\"$Cost$ Function $(Φ)$\") # Setting the y-label to cost function of eucledian\n",
        "axes1.set_title(\"$K-$MeansPP $Clustering-Eucledian$\") # Assigning the title for the graph\n",
        "axes1.legend(loc=0)\n",
        "figure1.tight_layout() # Adjusts the graph to a tight layout\n",
        "pl.show() # Displays the plot"
      ],
      "execution_count": null,
      "outputs": [
        {
          "output_type": "display_data",
          "data": {
            "image/png": "[encoded data removed]",
            "text/plain": [
              "<Figure size 720x360 with 1 Axes>"
            ]
          },
          "metadata": {
            "tags": [],
            "needs_background": "light"
          }
        }
      ]
    },
    {
      "cell_type": "code",
      "metadata": {
        "id": "lifAH2jMDveh"
      },
      "source": [
        "#k-means clustering\n",
        "def iterative_kmeansPP_clustering_Manhattan(data_points,centroids):\n",
        "  #length of the datapoints\n",
        "  datalength = len(data_points)\n",
        "  #array to store cost function values\n",
        "  CostFunArrayManhattan = np.zeros((total_iteration,2))\n",
        "  #dictionary to store the costfunction for an iteration\n",
        "  costDictManhattan = dict()\n",
        "  #constant which keeps the iteration number\n",
        "  iter_no = 0\n",
        "  while iter_no < total_iteration:\n",
        "    #has datapoints and corresponding cluster number\n",
        "    cluster_label = []\n",
        "    #incrementing the iteration\n",
        "    iter_no += 1\n",
        "    #initializing the summation value for each iteration\n",
        "    s = 0\n",
        "    #iterating the datapoints\n",
        "    for r in range(0, datalength):\n",
        "      #dictionary to store corresponding distances between k centroids and current data point\n",
        "      distance = {}\n",
        "      #for each centroid\n",
        "      for c in range(0, k):\n",
        "        distance[c] = compute_manhattan_distance(data_points[r], centroids[c])\n",
        "      #assigning the cluster to a smallest distance\n",
        "      label = assign_label_cluster(distance, data_points[r], centroids)\n",
        "      cluster_label.append(label)\n",
        "      #updating the summation value\n",
        "      s = s + (label[2]**2)\n",
        "    #adding the cost function for an iteration\n",
        "    costDictManhattan[iter_no] = s  \n",
        "    CostFunArrayManhattan[iter_no-1,:] = np.array([iter_no, s])\n",
        "    print(\"Iteration %.1d : %.2f\" %(iter_no,s))\n",
        "    new_centroids = compute_new_centroid(cluster_label,centroids)\n",
        "    centroids = new_centroids\n",
        "  return CostFunArrayManhattan,costDictManhattan"
      ],
      "execution_count": null,
      "outputs": []
    },
    {
      "cell_type": "code",
      "metadata": {
        "id": "4ShtSgmlD750",
        "outputId": "13c9cca6-b4d9-4214-a506-33a902f7f937",
        "colab": {
          "base_uri": "https://localhost:8080/",
          "height": 357
        }
      },
      "source": [
        "[CostFunArrayManhattan,costDictManhattan] = iterative_kmeansPP_clustering_Manhattan(itemsetNew.collect(),centroids)"
      ],
      "execution_count": null,
      "outputs": [
        {
          "output_type": "stream",
          "text": [
            "Iteration 1 : 570066.96\n",
            "Iteration 2 : 493376.54\n",
            "Iteration 3 : 482478.71\n",
            "Iteration 4 : 488999.29\n",
            "Iteration 5 : 494276.85\n",
            "Iteration 6 : 498583.62\n",
            "Iteration 7 : 501647.63\n",
            "Iteration 8 : 500716.83\n",
            "Iteration 9 : 495727.60\n",
            "Iteration 10 : 492450.68\n",
            "Iteration 11 : 483308.54\n",
            "Iteration 12 : 480260.43\n",
            "Iteration 13 : 462248.79\n",
            "Iteration 14 : 443375.87\n",
            "Iteration 15 : 443718.60\n",
            "Iteration 16 : 441784.08\n",
            "Iteration 17 : 442535.58\n",
            "Iteration 18 : 443251.94\n",
            "Iteration 19 : 444690.21\n",
            "Iteration 20 : 445811.40\n"
          ],
          "name": "stdout"
        }
      ]
    },
    {
      "cell_type": "code",
      "metadata": {
        "id": "8tzBLSlzERWZ",
        "outputId": "3b428e2c-522c-44ea-a0ae-2b2e6be5c642",
        "colab": {
          "base_uri": "https://localhost:8080/",
          "height": 369
        }
      },
      "source": [
        "figure1, axes1 = pl.subplots(1,1,figsize=(10,5)) # Specifying the dimensions of graph\n",
        "# In the below step we assign a line plot for the iterations and the cost function\n",
        "axes1.plot(CostFunArrayManhattan[:,0], CostFunArrayManhattan[:,1], 'go-', linewidth = 2, markersize = 12, markeredgewidth = 2, label = 'Normalized cost function', fillstyle = 'none')\n",
        "axes1.set_xlabel(\"$No$ of $Iterations$ $(I)$\") # Setting the x-label to no.of iterations\n",
        "axes1.set_ylabel(\"$Cost$ Function $(Φ)$\") # Setting the y-label to cost function of eucledian\n",
        "axes1.set_title(\"$K-$Means $ClusteringPP-Manhattan$\") # Assigning the title for the graph\n",
        "axes1.legend(loc=0)\n",
        "figure1.tight_layout() # Adjusts the graph to a tight layout\n",
        "pl.show() # Displays the plot"
      ],
      "execution_count": null,
      "outputs": [
        {
          "output_type": "display_data",
          "data": {
            "image/png": "[encoded data removed]",
            "text/plain": [
              "<Figure size 720x360 with 1 Axes>"
            ]
          },
          "metadata": {
            "tags": [],
            "needs_background": "light"
          }
        }
      ]
    },
    {
      "cell_type": "code",
      "metadata": {
        "id": "FMFTzLkTEaIc",
        "outputId": "f3d70b28-46e5-4bb5-d53f-e5b5a5d4b96e",
        "colab": {
          "base_uri": "https://localhost:8080/",
          "height": 71
        }
      },
      "source": [
        "#printing the cost functions\n",
        "print(costDictEucledian)\n",
        "print(costDictManhattan)"
      ],
      "execution_count": null,
      "outputs": [
        {
          "output_type": "stream",
          "text": [
            "{1: 641192406.191456, 2: 521019884.7465849, 3: 492434577.6966145, 4: 470323302.42858905, 5: 465825142.87586796, 6: 464263115.5113963, 7: 463213910.72997636, 8: 462437198.1519033, 9: 461987288.10075015, 10: 461511800.0395442, 11: 461180366.8259121, 12: 460960771.2189678, 13: 460762543.68501323, 14: 460484680.92386293, 15: 460246659.84888494, 16: 460027072.8171338, 17: 459754240.4221598, 18: 459454136.616111, 19: 459038803.7434591, 20: 458546879.18303794}\n",
            "{1: 570066.9610000009, 2: 493376.5356420899, 3: 482478.7070966571, 4: 488999.293673151, 5: 494276.85248770023, 6: 498583.61778867885, 7: 501647.6336193956, 8: 500716.8319284021, 9: 495727.60073583963, 10: 492450.67800282163, 11: 483308.5425133581, 12: 480260.42705542105, 13: 462248.7932002501, 14: 443375.8669591847, 15: 443718.60350163793, 16: 441784.084028143, 17: 442535.5826070704, 18: 443251.93974944553, 19: 444690.2144626764, 20: 445811.4008976145}\n"
          ],
          "name": "stdout"
        }
      ]
    },
    {
      "cell_type": "code",
      "metadata": {
        "id": "L2kdRQGwEdIb",
        "outputId": "7ca94e59-d844-4eff-fa2d-26c1c7a8a4ba",
        "colab": {
          "base_uri": "https://localhost:8080/",
          "height": 34
        }
      },
      "source": [
        "# cost function for eucledian distance\n",
        "costEucledianPercentage = ((costDictEucledian[1] - costDictEucledian[10])/(costDictEucledian[1])) * 100\n",
        "costEucledianPercentage"
      ],
      "execution_count": null,
      "outputs": [
        {
          "output_type": "execute_result",
          "data": {
            "text/plain": [
              "28.022884303820067"
            ]
          },
          "metadata": {
            "tags": []
          },
          "execution_count": 34
        }
      ]
    },
    {
      "cell_type": "code",
      "metadata": {
        "id": "-nF983QWE284",
        "outputId": "d9f88335-11d6-4395-e18a-e6764b9661c2",
        "colab": {
          "base_uri": "https://localhost:8080/",
          "height": 34
        }
      },
      "source": [
        "# cost function for manhattan distance\n",
        "costManhattanPercentage = ((costDictManhattan[1] - costDictManhattan[10])/(costDictManhattan[1])) * 100\n",
        "costManhattanPercentage"
      ],
      "execution_count": null,
      "outputs": [
        {
          "output_type": "execute_result",
          "data": {
            "text/plain": [
              "13.615292291457525"
            ]
          },
          "metadata": {
            "tags": []
          },
          "execution_count": 35
        }
      ]
    },
    {
      "cell_type": "markdown",
      "metadata": {
        "id": "HfwoT84LGDLm"
      },
      "source": [
        "##**Performance of K-means & k-meansPP clustering algorithms**"
      ]
    },
    {
      "cell_type": "markdown",
      "metadata": {
        "id": "2b8-RZBmGFTh"
      },
      "source": [
        "Cost Percentages of all the four Algorithms:\n",
        "![image.png](data:image/png;base64,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)\n",
        "\n",
        "\n",
        "\n",
        "Cost percentages of k-means are higher than that of K-means++ for both Eucledian & Manhattan distances. This is because the cost functions of K-means++ are very low which resulted in lower cost percentages. Hence, the cost percentages is not an accurate metric to compare algorithms here.\n",
        "\n",
        "\n",
        "![image.png](data:image/png;base64,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)\n",
        "\n",
        "\n",
        "We can clearly tell that performance of k-means++ is better compared to k-means from the cost functions. K-means++ max cost functions are almost 1/10 th of the K-means.Reason being centroids are not randomly initialized instead they are picked based on the probability of the distance.\n",
        "\n"
      ]
    },
    {
      "cell_type": "markdown",
      "metadata": {
        "id": "VEzsg76sH6Si"
      },
      "source": [
        "###**PARTICIPATION REPORT**"
      ]
    },
    {
      "cell_type": "markdown",
      "metadata": {
        "id": "It-n_fC9IR-y"
      },
      "source": [
        "##Sindhu Sheri\n",
        "initializing centroids & eucledian distance measure for K-means,k-means++\n",
        "##Tarun Alapati\n",
        "Manhattan Distance Measure & cost functions for K-means,k-means++\n",
        "##Team Work\n",
        "Before starting off with the project, we discussed how we wanted to proceed. Also while implementating we were keeping track of each other to know if we were going in right direction.\n",
        "Once the implementation is complemented, we discussed about the performance of algorithms & included it."
      ]
    }
  ]
}