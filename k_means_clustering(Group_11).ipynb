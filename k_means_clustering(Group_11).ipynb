{
  "nbformat": 4,
  "nbformat_minor": 0,
  "metadata": {
    "colab": {
      "name": "k-means clustering(Group-11).ipynb",
      "provenance": [],
      "collapsed_sections": []
    },
    "kernelspec": {
      "name": "python3",
      "display_name": "Python 3"
    }
  },
  "cells": [
    {
      "cell_type": "markdown",
      "metadata": {
        "id": "2R-EyjqmFmIN"
      },
      "source": [
        "### **K-Means Clustering**"
      ]
    },
    {
      "cell_type": "code",
      "metadata": {
        "id": "2rYc6HM4F21q"
      },
      "source": [
        "#Group 11\n",
        "#Sindhu Sheri A20212823\n",
        "#Tarun Alapati A20218266"
      ],
      "execution_count": 72,
      "outputs": []
    },
    {
      "cell_type": "code",
      "metadata": {
        "id": "pmFLAKkT5IQK",
        "outputId": "47a01a60-4d57-4bfe-d9af-ddb0909cd4bc",
        "colab": {
          "base_uri": "https://localhost:8080/",
          "height": 51
        }
      },
      "source": [
        "!pip install pyspark"
      ],
      "execution_count": 1,
      "outputs": [
        {
          "output_type": "stream",
          "text": [
            "Requirement already satisfied: pyspark in /usr/local/lib/python3.6/dist-packages (3.0.1)\n",
            "Requirement already satisfied: py4j==0.10.9 in /usr/local/lib/python3.6/dist-packages (from pyspark) (0.10.9)\n"
          ],
          "name": "stdout"
        }
      ]
    },
    {
      "cell_type": "code",
      "metadata": {
        "id": "Q3Yi9uTG4ors",
        "outputId": "81f4d824-24ea-4bcc-ce09-81d3ffdade12",
        "colab": {
          "base_uri": "https://localhost:8080/",
          "height": 34
        }
      },
      "source": [
        "from google.colab import drive\n",
        "drive.mount('/content/drive')"
      ],
      "execution_count": 2,
      "outputs": [
        {
          "output_type": "stream",
          "text": [
            "Drive already mounted at /content/drive; to attempt to forcibly remount, call drive.mount(\"/content/drive\", force_remount=True).\n"
          ],
          "name": "stdout"
        }
      ]
    },
    {
      "cell_type": "code",
      "metadata": {
        "id": "hfDgwhnq46Et"
      },
      "source": [
        "#data file\n",
        "file = \"drive/My Drive/bigdata_assignments/projects/project-3/data.txt\""
      ],
      "execution_count": 3,
      "outputs": []
    },
    {
      "cell_type": "code",
      "metadata": {
        "id": "AHPZV1fW5Elo"
      },
      "source": [
        "#packages required\n",
        "import sys\n",
        "from pyspark import SparkContext, SparkConf\n",
        "import numpy as np\n",
        "import matplotlib as mplib\n",
        "import matplotlib.pyplot as pl"
      ],
      "execution_count": 4,
      "outputs": []
    },
    {
      "cell_type": "code",
      "metadata": {
        "id": "FtQou-1b5MUh"
      },
      "source": [
        "#creating a spark context \n",
        "#sparkcontext.stop()\n",
        "sparkcontext = SparkContext(\"local\",\"PySpark k-means clustering\")"
      ],
      "execution_count": 5,
      "outputs": []
    },
    {
      "cell_type": "code",
      "metadata": {
        "id": "Hmz9r4b47pq3"
      },
      "source": [
        "#constants required\n",
        "total_iteration = 20\n",
        "k = 10"
      ],
      "execution_count": 42,
      "outputs": []
    },
    {
      "cell_type": "code",
      "metadata": {
        "id": "fgq0yuUN5WJq"
      },
      "source": [
        "#reading the data file & splitting them using space\n",
        "fileRDD = sparkcontext.textFile(file)\n",
        "itemset = fileRDD.map(lambda line: [item for item in line.split(' ')])\n",
        "itemsetNew = itemset.map(lambda x: [float(i) for i in x])"
      ],
      "execution_count": 6,
      "outputs": []
    },
    {
      "cell_type": "code",
      "metadata": {
        "id": "fBdgVI_O2cPI"
      },
      "source": [
        "#generating k-random centroids from data\n",
        "def randomCentroids(itemsetNew,k):\n",
        "  return itemsetNew.takeSample(False,k)"
      ],
      "execution_count": 35,
      "outputs": []
    },
    {
      "cell_type": "code",
      "metadata": {
        "id": "9-0oT8aiyqWA"
      },
      "source": [
        "kCentroids = randomCentroids(itemsetNew,10)"
      ],
      "execution_count": 37,
      "outputs": []
    },
    {
      "cell_type": "code",
      "metadata": {
        "id": "V5ogv7hJUmM1",
        "outputId": "2ac42878-e847-402d-89c8-572de7497636",
        "colab": {
          "base_uri": "https://localhost:8080/",
          "height": 224
        }
      },
      "source": [
        "print(\"Randomly Obtained Centroids\")\n",
        "for i in kCentroids:\n",
        "  print(i)"
      ],
      "execution_count": 38,
      "outputs": [
        {
          "output_type": "stream",
          "text": [
            "Randomly Obtained Centroids\n",
            "[0.0, 0.0, 0.0, 0.0, 0.0, 0.0, 0.0, 0.0, 0.0, 0.0, 0.0, 0.0, 0.0, 0.0, 0.0, 0.0, 0.0, 0.0, 0.0, 0.0, 0.0, 0.0, 0.0, 0.0, 0.0, 0.0, 0.0, 0.0, 0.0, 0.0, 0.0, 0.0, 0.0, 0.0, 0.0, 0.0, 0.0, 0.0, 0.0, 0.0, 0.0, 0.0, 0.0, 0.0, 0.0, 0.0, 0.0, 0.0, 0.0, 0.0, 0.0, 0.0, 0.0, 0.0, 1.0, 1.0, 3.0, 0.0]\n",
            "[0.0, 0.0, 0.0, 0.0, 0.0, 0.0, 0.0, 0.0, 0.0, 0.0, 0.0, 1.11, 0.0, 0.0, 0.0, 0.0, 0.0, 0.0, 0.0, 0.0, 0.0, 0.0, 0.0, 0.0, 4.44, 1.66, 0.0, 1.11, 0.0, 0.0, 0.0, 0.0, 0.0, 0.0, 1.11, 0.0, 0.55, 0.0, 0.0, 0.0, 0.0, 0.0, 0.0, 0.55, 0.0, 0.0, 0.0, 0.0, 0.0, 0.0, 0.0, 0.0, 0.0, 0.0, 2.018, 12.0, 107.0, 0.0]\n",
            "[0.0, 0.0, 0.0, 0.0, 0.0, 0.0, 0.0, 0.74, 0.0, 0.0, 0.0, 0.0, 0.0, 0.0, 0.0, 2.23, 0.0, 0.0, 1.49, 0.0, 0.0, 0.0, 0.0, 0.0, 0.0, 0.0, 0.0, 0.0, 0.0, 0.0, 0.0, 0.0, 0.74, 0.0, 0.0, 0.0, 0.0, 0.0, 0.0, 0.0, 0.0, 0.0, 0.0, 0.0, 0.0, 0.0, 0.0, 0.0, 0.0, 0.0, 0.0, 0.109, 0.0, 0.0, 2.263, 24.0, 86.0, 1.0]\n",
            "[0.0, 0.0, 0.0, 0.0, 0.0, 0.0, 0.0, 4.62, 0.0, 0.0, 0.0, 0.0, 0.92, 0.0, 0.0, 0.0, 0.92, 0.0, 0.0, 0.0, 0.0, 0.0, 1.85, 0.0, 0.0, 0.0, 0.0, 0.0, 0.0, 0.0, 0.0, 0.0, 0.0, 0.0, 0.0, 0.0, 0.0, 0.0, 0.0, 0.0, 0.0, 0.0, 0.0, 0.0, 0.0, 0.0, 0.0, 0.0, 0.0, 0.0, 0.0, 0.919, 0.367, 0.0, 2.84, 16.0, 71.0, 1.0]\n",
            "[0.0, 0.47, 0.47, 0.0, 1.89, 0.0, 1.18, 0.23, 0.0, 0.47, 0.23, 0.7, 0.23, 0.0, 0.47, 0.23, 1.41, 0.0, 2.83, 0.0, 1.65, 0.0, 0.0, 0.0, 0.0, 0.0, 0.0, 0.0, 0.0, 0.0, 0.0, 0.0, 0.0, 0.0, 0.0, 0.0, 0.0, 0.0, 0.0, 0.0, 0.0, 0.0, 0.0, 0.0, 0.0, 0.0, 0.0, 0.0, 0.0, 0.0, 0.0, 0.08, 0.0, 0.0, 1.844, 13.0, 83.0, 1.0]\n",
            "[0.0, 0.0, 0.0, 0.0, 0.67, 0.0, 2.01, 0.0, 0.0, 0.0, 0.0, 0.0, 0.0, 0.0, 0.0, 0.0, 0.0, 2.01, 1.34, 0.67, 2.01, 0.0, 0.0, 0.0, 0.0, 0.0, 0.0, 0.0, 0.0, 0.0, 0.0, 0.0, 0.0, 0.0, 0.0, 0.0, 0.0, 0.0, 0.0, 0.0, 0.0, 0.0, 0.0, 0.0, 0.0, 0.0, 0.0, 0.0, 0.0, 0.0, 0.0, 0.305, 0.0, 0.0, 2.162, 14.0, 93.0, 1.0]\n",
            "[0.0, 0.0, 0.0, 0.0, 0.0, 1.88, 0.0, 0.0, 0.0, 0.0, 0.0, 0.0, 0.0, 0.0, 0.0, 0.0, 0.0, 0.0, 3.77, 0.0, 1.88, 0.0, 0.0, 0.0, 0.0, 0.0, 0.0, 0.0, 0.0, 0.0, 0.0, 0.0, 0.0, 0.0, 0.0, 0.0, 0.0, 0.0, 0.0, 0.0, 0.0, 0.0, 0.0, 0.0, 0.0, 0.0, 0.0, 0.0, 0.0, 0.0, 0.0, 0.0, 0.0, 0.0, 2.307, 16.0, 30.0, 1.0]\n",
            "[0.0, 0.0, 0.0, 0.0, 0.0, 0.0, 0.0, 0.0, 0.0, 0.0, 0.0, 0.0, 0.0, 0.0, 0.0, 0.0, 0.0, 0.0, 0.95, 0.0, 0.0, 0.0, 0.0, 0.0, 0.95, 0.0, 0.0, 0.0, 0.0, 0.0, 0.0, 0.0, 0.95, 0.0, 0.0, 0.0, 0.0, 0.0, 0.0, 0.0, 0.0, 0.0, 0.0, 1.9, 0.0, 0.0, 0.0, 0.0, 0.263, 0.394, 0.0, 0.0, 0.0, 0.0, 2.142, 5.0, 45.0, 0.0]\n",
            "[0.0, 0.0, 0.0, 0.0, 0.0, 0.0, 0.0, 0.0, 0.0, 0.0, 0.0, 0.0, 0.0, 0.0, 0.0, 0.0, 0.0, 0.0, 2.63, 0.0, 0.0, 0.0, 0.0, 0.0, 2.63, 0.0, 0.0, 0.0, 0.0, 0.0, 2.63, 0.0, 0.0, 0.0, 0.0, 0.0, 0.0, 0.0, 0.0, 0.0, 0.0, 0.0, 0.0, 0.0, 0.0, 0.0, 0.0, 0.0, 0.0, 0.248, 0.0, 0.0, 0.0, 0.0, 4.166, 14.0, 50.0, 0.0]\n",
            "[0.0, 0.0, 0.0, 0.0, 0.58, 0.0, 0.0, 0.0, 0.0, 0.0, 0.0, 0.0, 0.0, 0.0, 0.0, 0.0, 0.0, 0.0, 0.58, 0.0, 0.0, 0.0, 0.0, 0.0, 0.58, 0.58, 0.0, 0.0, 0.0, 0.0, 0.0, 0.0, 0.0, 0.0, 0.0, 1.16, 1.74, 0.0, 0.58, 0.0, 0.0, 0.0, 0.58, 0.0, 0.0, 0.0, 0.0, 1.74, 0.0, 0.0, 0.118, 0.0, 0.0, 0.0, 6.428, 98.0, 315.0, 0.0]\n"
          ],
          "name": "stdout"
        }
      ]
    },
    {
      "cell_type": "code",
      "metadata": {
        "id": "TCl0eKBN6OAl"
      },
      "source": [
        "#computing the euclidean distance\n",
        "def compute_euclidean_distance(a,b):\n",
        "  sum_of = 0\n",
        "  for x, y in zip(a, b):\n",
        "    ans = (x - y)**2\n",
        "    sum_of += ans\n",
        "  return (sum_of)**(1/2)"
      ],
      "execution_count": 30,
      "outputs": []
    },
    {
      "cell_type": "code",
      "metadata": {
        "id": "AXTEZTLqWRV9"
      },
      "source": [
        "#computing the manhattan distance\n",
        "def compute_manhattan_distance(a, b):\n",
        "    sum_of = 0\n",
        "    for x, y in zip(a, b):\n",
        "        ans = abs(x-y)\n",
        "        sum_of += ans\n",
        "    return (sum_of)**(1/2)"
      ],
      "execution_count": 24,
      "outputs": []
    },
    {
      "cell_type": "code",
      "metadata": {
        "id": "FUY-Q-QjUXIE"
      },
      "source": [
        "#assign the cluster which has the minimum distance\n",
        "def assign_label_cluster(distance, data_point, centroids):\n",
        "  #getting the minimum distance cluster from the dictionary\n",
        "  minIndex = min(distance, key=distance.get)\n",
        "  return [minIndex, data_point, distance[minIndex]]"
      ],
      "execution_count": 31,
      "outputs": []
    },
    {
      "cell_type": "code",
      "metadata": {
        "id": "5jP0U_jgbHl4"
      },
      "source": [
        "#computing new centroids\n",
        "def compute_new_centroid(label,centroids):\n",
        "  res = []\n",
        "  for j in range(0,10):\n",
        "    c = []\n",
        "    x = None\n",
        "    for i in label:\n",
        "      if i[0] == j:\n",
        "        c.append(np.array(i[1]))\n",
        "    if not c:\n",
        "      x = centroids[j]\n",
        "    else:\n",
        "      x = np.average(c,axis = 0)\n",
        "    res.append(x)\n",
        "  return res        "
      ],
      "execution_count": 48,
      "outputs": []
    },
    {
      "cell_type": "code",
      "metadata": {
        "id": "RGUjokBS79X7"
      },
      "source": [
        "#k-means clustering\n",
        "def iterative_kmeans_clustering_Eucledian(data_points,centroids):\n",
        "  #length of the datapoints\n",
        "  datalength = len(data_points)\n",
        "  #array to store cost function values\n",
        "  CostFunArrayEucledian = np.zeros((total_iteration,2))\n",
        "  #dictionary to store the costfunction for an iteration\n",
        "  costDictEucledian = dict()\n",
        "  #constant which keeps the iteration number\n",
        "  iter_no = 0\n",
        "  while iter_no < total_iteration:\n",
        "    #has datapoints and corresponding cluster number\n",
        "    cluster_label = []\n",
        "    #incrementing the iteration\n",
        "    iter_no += 1\n",
        "    #initializing the summation value for each iteration\n",
        "    s = 0\n",
        "    #iterating the datapoints\n",
        "    for r in range(0, datalength):\n",
        "      #dictionary to store corresponding distances between k centroids and current data point\n",
        "      distance = {}\n",
        "      #for each centroid\n",
        "      for c in range(0, k):\n",
        "        distance[c] = compute_euclidean_distance(data_points[r], centroids[c])\n",
        "      #assigning the cluster to a smallest distance\n",
        "      label = assign_label_cluster(distance, data_points[r], centroids)\n",
        "      cluster_label.append(label)\n",
        "      #updating the summation value\n",
        "      s = s + (label[2]**2)\n",
        "    #adding the cost function for an iteration\n",
        "    costDictEucledian[iter_no] = s  \n",
        "    CostFunArrayEucledian[iter_no-1,:] = np.array([iter_no, s])\n",
        "    print(\"Iteration %.1d : %.2f\" %(iter_no,s))\n",
        "    new_centroids = compute_new_centroid(cluster_label,centroids)\n",
        "    centroids = new_centroids\n",
        "  return CostFunArrayEucledian,costDictEucledian\n"
      ],
      "execution_count": 56,
      "outputs": []
    },
    {
      "cell_type": "code",
      "metadata": {
        "id": "buCvyXi2-xLc",
        "outputId": "84208dad-bd07-4653-a618-7561327f3ee3",
        "colab": {
          "base_uri": "https://localhost:8080/",
          "height": 357
        }
      },
      "source": [
        "[costFunArrayEucledian,costDictEucledian] = iterative_kmeans_clustering_Eucledian(itemsetNew.collect(),kCentroids)"
      ],
      "execution_count": 57,
      "outputs": [
        {
          "output_type": "stream",
          "text": [
            "Iteration 1 : 1658139015.93\n",
            "Iteration 2 : 1205328991.83\n",
            "Iteration 3 : 988553404.17\n",
            "Iteration 4 : 860642648.43\n",
            "Iteration 5 : 780452306.09\n",
            "Iteration 6 : 724423632.80\n",
            "Iteration 7 : 683593403.38\n",
            "Iteration 8 : 612350881.19\n",
            "Iteration 9 : 563283869.75\n",
            "Iteration 10 : 538260917.53\n",
            "Iteration 11 : 515445177.17\n",
            "Iteration 12 : 499733355.29\n",
            "Iteration 13 : 485717260.32\n",
            "Iteration 14 : 478125376.79\n",
            "Iteration 15 : 473325651.97\n",
            "Iteration 16 : 469728487.07\n",
            "Iteration 17 : 467525834.54\n",
            "Iteration 18 : 466126195.76\n",
            "Iteration 19 : 464991413.91\n",
            "Iteration 20 : 464210629.32\n"
          ],
          "name": "stdout"
        }
      ]
    },
    {
      "cell_type": "code",
      "metadata": {
        "id": "LfYrKJXQvPYL",
        "outputId": "0a30068b-75b9-4ecb-ee24-5641be351780",
        "colab": {
          "base_uri": "https://localhost:8080/",
          "height": 369
        }
      },
      "source": [
        "figure1, axes1 = pl.subplots(1,1,figsize=(10,5)) # Specifying the dimensions of graph\n",
        "# In the below step we assign a line plot for the iterations and the cost function\n",
        "axes1.plot(costFunArrayEucledian[:,0], costFunArrayEucledian[:,1], 'go-', linewidth = 2, markersize = 12, markeredgewidth = 2, label = 'Normalized cost function', fillstyle = 'none')\n",
        "axes1.set_xlabel(\"$No$ of $Iterations$ $(I)$\") # Setting the x-label to no.of iterations\n",
        "axes1.set_ylabel(\"$Cost$ Function $(Φ)$\") # Setting the y-label to cost function of eucledian\n",
        "axes1.set_title(\"$K-$Means $Clustering-Eucledian$\") # Assigning the title for the graph\n",
        "axes1.legend(loc=0)\n",
        "figure1.tight_layout() # Adjusts the graph to a tight layout\n",
        "pl.show() # Displays the plot"
      ],
      "execution_count": 67,
      "outputs": [
        {
          "output_type": "display_data",
          "data": {
            "image/png": "[encoded data removed]",
            "text/plain": [
              "<Figure size 720x360 with 1 Axes>"
            ]
          },
          "metadata": {
            "tags": [],
            "needs_background": "light"
          }
        }
      ]
    },
    {
      "cell_type": "code",
      "metadata": {
        "id": "7-9ARJDmAv-t"
      },
      "source": [
        "#k-means clustering\n",
        "def iterative_kmeans_clustering_Manhattan(data_points,centroids):\n",
        "  #length of the datapoints\n",
        "  datalength = len(data_points)\n",
        "  #array to store cost function values\n",
        "  CostFunArrayManhattan = np.zeros((total_iteration,2))\n",
        "  #dictionary to store the costfunction for an iteration\n",
        "  costDictManhattan = dict()\n",
        "  #constant which keeps the iteration number\n",
        "  iter_no = 0\n",
        "  while iter_no < total_iteration:\n",
        "    #has datapoints and corresponding cluster number\n",
        "    cluster_label = []\n",
        "    #incrementing the iteration\n",
        "    iter_no += 1\n",
        "    #initializing the summation value for each iteration\n",
        "    s = 0\n",
        "    #iterating the datapoints\n",
        "    for r in range(0, datalength):\n",
        "      #dictionary to store corresponding distances between k centroids and current data point\n",
        "      distance = {}\n",
        "      #for each centroid\n",
        "      for c in range(0, k):\n",
        "        distance[c] = compute_manhattan_distance(data_points[r], centroids[c])\n",
        "      #assigning the cluster to a smallest distance\n",
        "      label = assign_label_cluster(distance, data_points[r], centroids)\n",
        "      cluster_label.append(label)\n",
        "      #updating the summation value\n",
        "      s = s + (label[2]**2)\n",
        "    #adding the cost function for an iteration\n",
        "    costDictManhattan[iter_no] = s  \n",
        "    CostFunArrayManhattan[iter_no-1,:] = np.array([iter_no, s])\n",
        "    print(\"Iteration %.1d : %.2f\" %(iter_no,s))\n",
        "    new_centroids = compute_new_centroid(cluster_label,centroids)\n",
        "    centroids = new_centroids\n",
        "  return CostFunArrayManhattan,costDictManhattan\n"
      ],
      "execution_count": 61,
      "outputs": []
    },
    {
      "cell_type": "code",
      "metadata": {
        "id": "_mkDQ9n-BI5F",
        "outputId": "76085265-300a-4463-e79d-0e44ca2edc67",
        "colab": {
          "base_uri": "https://localhost:8080/",
          "height": 357
        }
      },
      "source": [
        "[CostFunArrayManhattan,costDictManhattan] = iterative_kmeans_clustering_Manhattan(itemsetNew.collect(),kCentroids)"
      ],
      "execution_count": 62,
      "outputs": [
        {
          "output_type": "stream",
          "text": [
            "Iteration 1 : 1002533.34\n",
            "Iteration 2 : 808093.63\n",
            "Iteration 3 : 711667.98\n",
            "Iteration 4 : 671385.33\n",
            "Iteration 5 : 640991.72\n",
            "Iteration 6 : 622062.76\n",
            "Iteration 7 : 596717.69\n",
            "Iteration 8 : 553042.98\n",
            "Iteration 9 : 538075.99\n",
            "Iteration 10 : 533881.42\n",
            "Iteration 11 : 532829.49\n",
            "Iteration 12 : 535445.75\n",
            "Iteration 13 : 533028.40\n",
            "Iteration 14 : 527225.97\n",
            "Iteration 15 : 518471.94\n",
            "Iteration 16 : 510980.64\n",
            "Iteration 17 : 506109.56\n",
            "Iteration 18 : 504780.13\n",
            "Iteration 19 : 505071.14\n",
            "Iteration 20 : 503944.00\n"
          ],
          "name": "stdout"
        }
      ]
    },
    {
      "cell_type": "code",
      "metadata": {
        "id": "SmK1BUBxBVFp",
        "outputId": "f0efdfaf-f361-4b95-e8e0-d016a0e30069",
        "colab": {
          "base_uri": "https://localhost:8080/",
          "height": 369
        }
      },
      "source": [
        "figure1, axes1 = pl.subplots(1,1,figsize=(10,5)) # Specifying the dimensions of graph\n",
        "# In the below step we assign a line plot for the iterations and the cost function\n",
        "axes1.plot(CostFunArrayManhattan[:,0], CostFunArrayManhattan[:,1], 'go-', linewidth = 2, markersize = 12, markeredgewidth = 2, label = 'Normalized cost function', fillstyle = 'none')\n",
        "axes1.set_xlabel(\"$No$ of $Iterations$ $(I)$\") # Setting the x-label to no.of iterations\n",
        "axes1.set_ylabel(\"$Cost$ Function $(Φ)$\") # Setting the y-label to cost function of eucledian\n",
        "axes1.set_title(\"$K-$Means $Clustering-Manhattan$\") # Assigning the title for the graph\n",
        "axes1.legend(loc=0)\n",
        "figure1.tight_layout() # Adjusts the graph to a tight layout\n",
        "pl.show() # Displays the plot"
      ],
      "execution_count": 68,
      "outputs": [
        {
          "output_type": "display_data",
          "data": {
            "image/png": "[encoded data removed]",
            "text/plain": [
              "<Figure size 720x360 with 1 Axes>"
            ]
          },
          "metadata": {
            "tags": [],
            "needs_background": "light"
          }
        }
      ]
    },
    {
      "cell_type": "code",
      "metadata": {
        "id": "9GNK854vB08t",
        "outputId": "60cbb7b1-7b41-4991-952e-9fc30b884971",
        "colab": {
          "base_uri": "https://localhost:8080/",
          "height": 71
        }
      },
      "source": [
        "#printing the cost functions\n",
        "print(costDictEucledian)\n",
        "print(costDictManhattan)"
      ],
      "execution_count": 69,
      "outputs": [
        {
          "output_type": "stream",
          "text": [
            "{1: 1658139015.9254603, 2: 1205328991.8338356, 3: 988553404.1748053, 4: 860642648.4251981, 5: 780452306.0931883, 6: 724423632.802921, 7: 683593403.3823783, 8: 612350881.1905221, 9: 563283869.7487906, 10: 538260917.5276138, 11: 515445177.1698846, 12: 499733355.2913053, 13: 485717260.31953835, 14: 478125376.78529555, 15: 473325651.9675424, 16: 469728487.069019, 17: 467525834.53581357, 18: 466126195.75919896, 19: 464991413.9116552, 20: 464210629.3155552}\n",
            "{1: 1002533.3389999999, 2: 808093.6332885546, 3: 711667.9799896402, 4: 671385.32770694, 5: 640991.7176740178, 6: 622062.7618898947, 7: 596717.6879420816, 8: 553042.9805544973, 9: 538075.9884025021, 10: 533881.4182754003, 11: 532829.4913945876, 12: 535445.7479856211, 13: 533028.4048830118, 14: 527225.9688532173, 15: 518471.9448015737, 16: 510980.64071232354, 17: 506109.5560240771, 18: 504780.1303604521, 19: 505071.1357258232, 20: 503943.9962593126}\n"
          ],
          "name": "stdout"
        }
      ]
    },
    {
      "cell_type": "code",
      "metadata": {
        "id": "cTyMSYT4Cllm",
        "outputId": "bce1ec30-8b3e-4a49-957f-6d8a5938d8ee",
        "colab": {
          "base_uri": "https://localhost:8080/",
          "height": 34
        }
      },
      "source": [
        "# cost function for eucledian distance\n",
        "costEucledianPercentage = ((costDictEucledian[1] - costDictEucledian[10])/(costDictEucledian[1])) * 100\n",
        "costEucledianPercentage"
      ],
      "execution_count": 70,
      "outputs": [
        {
          "output_type": "execute_result",
          "data": {
            "text/plain": [
              "67.53825147602639"
            ]
          },
          "metadata": {
            "tags": []
          },
          "execution_count": 70
        }
      ]
    },
    {
      "cell_type": "code",
      "metadata": {
        "id": "vrfCu8syEqcA",
        "outputId": "567a3d62-e0b8-4564-e78a-7faa38de2974",
        "colab": {
          "base_uri": "https://localhost:8080/",
          "height": 34
        }
      },
      "source": [
        "# cost function for manhattan distance\n",
        "costManhattanPercentage = ((costDictManhattan[1] - costDictManhattan[10])/(costDictManhattan[1])) * 100\n",
        "costManhattanPercentage"
      ],
      "execution_count": 71,
      "outputs": [
        {
          "output_type": "execute_result",
          "data": {
            "text/plain": [
              "46.746766665342754"
            ]
          },
          "metadata": {
            "tags": []
          },
          "execution_count": 71
        }
      ]
    }
  ]
}